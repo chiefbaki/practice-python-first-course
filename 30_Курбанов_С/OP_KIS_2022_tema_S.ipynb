{
  "cells": [
    {
      "cell_type": "markdown",
      "metadata": {
        "id": "3PzXvTrKAWJA"
      },
      "source": [
        "## Объектно-ориентированный программирование\n",
        "**Объектно-ориентированное программирование (ООП)** — парадигма программирования, в которой основными концепциями являются понятия **объектов** и **классов**.\n",
        "\n",
        "* **класс**: абстракция реального мира, обобщенный шаблон; \n",
        "* **объект, экземпляр класса**: частный случай класса.\n",
        "\n",
        "Каждый класс содержит и описывает **поля** (переменные, связанные с классом) и **методы** (действия, которые можно проводить над классом). Набор полей и методов определяет интерфейс класса – способ взаимодействия с классом произвольного кода программы. \n",
        "\n",
        "Объектно-ориентированная парадигма программирования включает 3 основных принципа: **инкапсуляция, полиморфизм, наследование**.\n",
        "\n",
        "**Инкапсуляция** – это свойство системы, позволяющее объединить данные и методы, работающие с ними, в классе и скрыть детали\n",
        "реализации от пользователя.\n",
        "\n",
        "**Полиморфизм** – это свойство системы использовать объекты с одинаковым интерфейсом без информации о типе и внутренней структуре объекта.\n",
        "\n",
        "**Наследование** – это свойство системы, позволяющее описать новый класс на основе уже существующего с частично или полностью заимствующейся функциональностью."
      ]
    },
    {
      "cell_type": "markdown",
      "metadata": {
        "id": "jv75OydgAWJF"
      },
      "source": [
        "### Объявление класса"
      ]
    },
    {
      "cell_type": "code",
      "execution_count": 17,
      "metadata": {
        "id": "rhghONE6AWJJ"
      },
      "outputs": [],
      "source": [
        "class Person:\n",
        "    name = None"
      ]
    },
    {
      "cell_type": "code",
      "execution_count": 18,
      "metadata": {
        "colab": {
          "base_uri": "https://localhost:8080/"
        },
        "id": "kg8oTgHlAWJJ",
        "outputId": "28c9f24e-deeb-41c7-b1b0-894a75d1b771"
      },
      "outputs": [
        {
          "name": "stdout",
          "output_type": "stream",
          "text": [
            "Ivan None\n"
          ]
        }
      ],
      "source": [
        "person1 = Person()\n",
        "person2 = Person()\n",
        "person1.name = \"Ivan\"\n",
        "print(person1.name, person2.name, person3.name)"
      ]
    },
    {
      "cell_type": "markdown",
      "metadata": {
        "id": "CG4DCJy4AbTI"
      },
      "source": [
        "У объектов есть некоторое колличество служебных атрибутов. В данном случае посмотрим метод `__init__(self)`, который используется для инициализации объектов класса.\n",
        "\n",
        "Служебное слово `self` - это ссылка на текущий экземпляр класса. Как правило, эта ссылка передается в качестве первого параметра метода."
      ]
    },
    {
      "cell_type": "code",
      "execution_count": 19,
      "metadata": {
        "id": "0VgmcMlhAWJK"
      },
      "outputs": [],
      "source": [
        "class Person:\n",
        "    \n",
        "    def __init__(self, name, surname):\n",
        "        self.name = name\n",
        "        self.surname = surname\n",
        "        self.age = 0\n",
        "        \n",
        "    def addage(self):\n",
        "        self.age +=1\n",
        "        return self.age"
      ]
    },
    {
      "cell_type": "code",
      "execution_count": 20,
      "metadata": {
        "colab": {
          "base_uri": "https://localhost:8080/"
        },
        "id": "3Zvn0MNqAWJL",
        "outputId": "757b26ea-50b9-45ae-a5ff-b7d51786f713"
      },
      "outputs": [
        {
          "name": "stdout",
          "output_type": "stream",
          "text": [
            "10\n"
          ]
        }
      ],
      "source": [
        "person1 = Person(\"Ivan\", \"Ivanov\")\n",
        "for i in range(10):\n",
        "    person1.addage()\n",
        "print(person1.age)"
      ]
    },
    {
      "cell_type": "markdown",
      "metadata": {
        "id": "YNTaZpfCAWJL"
      },
      "source": [
        "### Инкапсуляция"
      ]
    },
    {
      "cell_type": "markdown",
      "metadata": {
        "id": "CkTnRY4BBcgV"
      },
      "source": [
        "В некоторых других языках (таких как C++ и Java) доступ к ресурсам класса реализуется с помощью служебных слов:\n",
        "* **Private**. Приватные члены класса недоступны извне - с ними можно работать только внутри класса.\n",
        "* **Public**. Публичные методы наоборот - открыты для работы снаружи и, как правило, объявляются публичными сразу по-умолчанию.\n",
        "* **Protected**. Доступ к защищенным ресурсам класса возможен только внутри этого класса и также внутри унаследованных от него классов (иными словами, внутри классов-потомков). Больше никто доступа к ним не имеет\n",
        "\n",
        "В Питоне все реализовано немного иначе. Предложено соглашение, в соответствии с которым:\n",
        "\n",
        "* если атрибут начинается с одного нижнего подчеркивания (`_protected_example`), то он считается защищенным (**protected**)\n",
        "* если атрибут начинается с двух нижних подчеркиваний (`__private_example`), то он считается приватным (**private**)\n"
      ]
    },
    {
      "cell_type": "code",
      "execution_count": 12,
      "metadata": {
        "id": "ovXR9TaxAWJL"
      },
      "outputs": [],
      "source": [
        "class Person:\n",
        "    \n",
        "    def __init__(self, name, surname):\n",
        "        self.name = name\n",
        "        self.surname = surname\n",
        "        self.age = 0\n",
        "        \n",
        "    def _addage(self):\n",
        "        self.age +=1\n",
        "        return self.age"
      ]
    },
    {
      "cell_type": "markdown",
      "metadata": {
        "id": "lliONopyCTk0"
      },
      "source": [
        "Мы описали защищенный метод, но по факту такой атрибут все равно будет доступен снаружи класса, Если обратиться к нему особым образом."
      ]
    },
    {
      "cell_type": "code",
      "execution_count": 13,
      "metadata": {
        "colab": {
          "base_uri": "https://localhost:8080/"
        },
        "id": "PYNO2vXNAWJM",
        "outputId": "fe527bec-2ef0-400b-deda-581de7d99e53"
      },
      "outputs": [
        {
          "name": "stdout",
          "output_type": "stream",
          "text": [
            "10\n"
          ]
        }
      ],
      "source": [
        "person1 = Person(\"Ivan\", \"Ivanov\")\n",
        "for i in range(10):\n",
        "    person1._addage()\n",
        "print(person1.age)"
      ]
    },
    {
      "cell_type": "markdown",
      "metadata": {
        "id": "tt2smjpMCpYg"
      },
      "source": [
        "Сделаем метод приватным. Здесь уже интереснее - получить доступ к таким атрибутам напрямую нельзя."
      ]
    },
    {
      "cell_type": "code",
      "execution_count": 21,
      "metadata": {
        "id": "E4NeropzAWJM"
      },
      "outputs": [],
      "source": [
        "class Person:\n",
        "    \n",
        "    def __init__(self, name, surname):\n",
        "        self.name = name\n",
        "        self.surname = surname\n",
        "        self.age = 0\n",
        "        \n",
        "    def __addage(self):\n",
        "        self.age +=1\n",
        "        return self.age"
      ]
    },
    {
      "cell_type": "code",
      "execution_count": 22,
      "metadata": {
        "colab": {
          "base_uri": "https://localhost:8080/",
          "height": 217
        },
        "id": "jpHjmQAxE5yA",
        "outputId": "2916e139-53fd-47fd-c392-16018a6921c0"
      },
      "outputs": [
        {
          "ename": "AttributeError",
          "evalue": "ignored",
          "output_type": "error",
          "traceback": [
            "\u001b[0;31m---------------------------------------------------------------------------\u001b[0m",
            "\u001b[0;31mAttributeError\u001b[0m                            Traceback (most recent call last)",
            "\u001b[0;32m<ipython-input-22-f2ca007dd43b>\u001b[0m in \u001b[0;36m<module>\u001b[0;34m()\u001b[0m\n\u001b[1;32m      1\u001b[0m \u001b[0mperson1\u001b[0m \u001b[0;34m=\u001b[0m \u001b[0mPerson\u001b[0m\u001b[0;34m(\u001b[0m\u001b[0;34m\"Ivan\"\u001b[0m\u001b[0;34m,\u001b[0m \u001b[0;34m\"Ivanov\"\u001b[0m\u001b[0;34m)\u001b[0m\u001b[0;34m\u001b[0m\u001b[0;34m\u001b[0m\u001b[0m\n\u001b[1;32m      2\u001b[0m \u001b[0;32mfor\u001b[0m \u001b[0mi\u001b[0m \u001b[0;32min\u001b[0m \u001b[0mrange\u001b[0m\u001b[0;34m(\u001b[0m\u001b[0;36m10\u001b[0m\u001b[0;34m)\u001b[0m\u001b[0;34m:\u001b[0m\u001b[0;34m\u001b[0m\u001b[0;34m\u001b[0m\u001b[0m\n\u001b[0;32m----> 3\u001b[0;31m     \u001b[0mperson1\u001b[0m\u001b[0;34m.\u001b[0m\u001b[0m__addage\u001b[0m\u001b[0;34m(\u001b[0m\u001b[0;34m)\u001b[0m\u001b[0;34m\u001b[0m\u001b[0;34m\u001b[0m\u001b[0m\n\u001b[0m\u001b[1;32m      4\u001b[0m \u001b[0mprint\u001b[0m\u001b[0;34m(\u001b[0m\u001b[0mperson1\u001b[0m\u001b[0;34m.\u001b[0m\u001b[0mage\u001b[0m\u001b[0;34m)\u001b[0m\u001b[0;34m\u001b[0m\u001b[0;34m\u001b[0m\u001b[0m\n",
            "\u001b[0;31mAttributeError\u001b[0m: 'Person' object has no attribute '__addage'"
          ]
        }
      ],
      "source": [
        "person1 = Person(\"Ivan\", \"Ivanov\")\n",
        "for i in range(10):\n",
        "    person1.__addage()\n",
        "print(person1.age)"
      ]
    },
    {
      "cell_type": "markdown",
      "metadata": {
        "id": "xAaeA1g7C9Ri"
      },
      "source": [
        "Но если оооочень хочется, то, все равно можно."
      ]
    },
    {
      "cell_type": "code",
      "execution_count": 15,
      "metadata": {
        "colab": {
          "base_uri": "https://localhost:8080/"
        },
        "id": "zwZ2uEudAWJM",
        "outputId": "fefaabc0-bbcf-4470-b6bd-69164d8d664a"
      },
      "outputs": [
        {
          "name": "stdout",
          "output_type": "stream",
          "text": [
            "10\n"
          ]
        }
      ],
      "source": [
        "person1 = Person(\"Ivan\", \"Ivanov\")\n",
        "for i in range(10):\n",
        "    person1._Person__addage()\n",
        "print(person1.age)"
      ]
    },
    {
      "cell_type": "markdown",
      "metadata": {
        "id": "tBplS3EQEwu7"
      },
      "source": [
        "\n",
        "Физически механизмы ограничения доступа реализованы слабо. Всего лишь существует соглашение, по которому задать уровень доступа к атрибуту класса можно с помощью добавления к имени одного (protected) или двух (private) подчеркиваний. Однако, ответственность за соблюдение данного соглашения лежит на плечах программистов."
      ]
    },
    {
      "cell_type": "code",
      "execution_count": 23,
      "metadata": {
        "id": "rz0Yj6KqAWJM"
      },
      "outputs": [],
      "source": [
        "class Person:\n",
        "    \n",
        "    def __init__(self, name, surname):\n",
        "        self.__name = name\n",
        "        self.__surname = surname\n",
        "        self.__age = 0\n",
        "    \n",
        "    @property\n",
        "    def age(self):\n",
        "        print(\"Получение возрвста\")\n",
        "        return self.__age\n",
        " \n",
        "    @age.setter\n",
        "    def age(self, age):\n",
        "        if age in range(1, 100):\n",
        "            self.__age = age\n",
        "        else:\n",
        "            print(\"Недопустимый возраст\")"
      ]
    },
    {
      "cell_type": "code",
      "execution_count": 24,
      "metadata": {
        "colab": {
          "base_uri": "https://localhost:8080/"
        },
        "id": "DuEcREAGAWJN",
        "outputId": "51313e9f-800c-4890-e751-dd30dd3d118c"
      },
      "outputs": [
        {
          "name": "stdout",
          "output_type": "stream",
          "text": [
            "Недопустимый возраст\n",
            "Получение возрвста\n",
            "0\n"
          ]
        }
      ],
      "source": [
        "person1 = Person(\"Ivan\", \"Ivanov\")\n",
        "person1.age = 1000 \n",
        "print(person1.age)"
      ]
    },
    {
      "cell_type": "markdown",
      "metadata": {
        "id": "fJhOZ1kwAWJN"
      },
      "source": [
        "### Наследование"
      ]
    },
    {
      "cell_type": "code",
      "execution_count": 25,
      "metadata": {
        "id": "oUmOiC3TAWJN"
      },
      "outputs": [],
      "source": [
        "class Person:\n",
        "    \n",
        "    def __init__(self, name, surname):\n",
        "        self.name = name\n",
        "        self.surname = surname\n",
        "        self.age = 0\n",
        "        \n",
        "    def addage(self):\n",
        "        self.age +=1\n",
        "        return self.age\n",
        "    \n",
        "class Student(Person):\n",
        "    def __init__(self, name, surname, group):\n",
        "        Person.__init__(self, name, surname)\n",
        "        self.group = group\n",
        "        self.marks = {}\n",
        "        \n",
        "    def addmark(self, discipline, mark):\n",
        "        self.marks[discipline] = mark"
      ]
    },
    {
      "cell_type": "code",
      "execution_count": 26,
      "metadata": {
        "colab": {
          "base_uri": "https://localhost:8080/"
        },
        "id": "kXQDAKDVAWJN",
        "outputId": "7def8e31-4ee6-46ff-f0e2-6f9158b039dd"
      },
      "outputs": [
        {
          "name": "stdout",
          "output_type": "stream",
          "text": [
            "{'OOP': 4}\n"
          ]
        }
      ],
      "source": [
        "student1 = Student(\"Anna\", \"Petrova\", \"IIBO-01-19\")\n",
        "for i in range(18):\n",
        "    student1.addage()\n",
        "student1.addmark(\"OOP\", 4)\n",
        "print(student1.marks)"
      ]
    },
    {
      "cell_type": "markdown",
      "metadata": {
        "id": "RY6a-GLgAWJN"
      },
      "source": [
        "### Полиморфизм"
      ]
    },
    {
      "cell_type": "markdown",
      "metadata": {
        "id": "RFKTwfJaF4PH"
      },
      "source": [
        "Полиморфизм рассмотрим на примере печати объектов, а именно универсальной функции `print()`."
      ]
    },
    {
      "cell_type": "code",
      "execution_count": 27,
      "metadata": {
        "colab": {
          "base_uri": "https://localhost:8080/"
        },
        "id": "fi1EbSiEGV4g",
        "outputId": "53cf6de0-ec22-4c46-9a1a-e1677b864ba3"
      },
      "outputs": [
        {
          "name": "stdout",
          "output_type": "stream",
          "text": [
            "hello\n",
            "123\n",
            "True\n",
            "<__main__.Student object at 0x7fe9480b68d0>\n"
          ]
        }
      ],
      "source": [
        "print(\"hello\")\n",
        "print(123)\n",
        "print(True)\n",
        "print(student1)"
      ]
    },
    {
      "cell_type": "markdown",
      "metadata": {
        "id": "sKLg4nS4GWHr"
      },
      "source": [
        "Все типы данных являются объектами, которые наследуются от класса object. И у всех у них реализован метод преобразования к строке. Если мы переопредлеим этот метод и внаем пользовательском классе, то мы сможешь использовать функцию `print()` для него."
      ]
    },
    {
      "cell_type": "code",
      "execution_count": 28,
      "metadata": {
        "id": "tuIhfMaPAWJO"
      },
      "outputs": [],
      "source": [
        "class Person:\n",
        "    \n",
        "    def __init__(self, name, surname):\n",
        "        self.name = name\n",
        "        self.surname = surname\n",
        "        self.age = 0\n",
        "        \n",
        "    def addage(self):\n",
        "        self.age +=1\n",
        "        return self.age\n",
        "    \n",
        "class Student(Person):\n",
        "    def __init__(self, name, surname, group):\n",
        "        Person.__init__(self, name, surname)\n",
        "        self.group = group\n",
        "        self.marks = {}\n",
        "        \n",
        "    def __str__(self):\n",
        "        s = f\"Group: {self.group} \\n{self.surname} {self.name}, age: {self.age} \\nMarks: {self.marks}\"\n",
        "        return s\n",
        "        \n",
        "    def addmark(self, discipline, mark):\n",
        "        self.marks[discipline] = mark"
      ]
    },
    {
      "cell_type": "code",
      "execution_count": 30,
      "metadata": {
        "colab": {
          "base_uri": "https://localhost:8080/"
        },
        "id": "ReET-NhAAWJO",
        "outputId": "8bdefba3-6fc3-43a7-c58b-826f7b61e257"
      },
      "outputs": [
        {
          "name": "stdout",
          "output_type": "stream",
          "text": [
            "Group: IKBO-01-21 \n",
            "Petrova Anna, age: 18 \n",
            "Marks: {'OOP': 4}\n"
          ]
        }
      ],
      "source": [
        "student1 = Student(\"Anna\", \"Petrova\", \"IKBO-01-21\")\n",
        "for i in range(18):\n",
        "    student1.addage()\n",
        "student1.addmark(\"OOP\", 4)\n",
        "print(student1)"
      ]
    },
    {
      "cell_type": "markdown",
      "metadata": {
        "id": "GmT31bWMAWJO"
      },
      "source": [
        "Некоторые операторы и соответствующие им специальные функции представлены ниже (полный список в официальной документации: https://docs.python.org/3/library/operator.html#mapping-operators-to-functions).\n",
        "\n",
        "|Название|Оператор|Функция|\n",
        "|------------------------|:------------------------:|------------------------|\n",
        "|Сложение |\ta + b |\t`__add__(a, b)`|\n",
        "|Вычитание |\ta - b |\t`__sub__(a, b)`|\n",
        "|Умножение |\ta * b |\t`__mul__(a, b)`|\n",
        "|Деление |\ta / b |\t`__truediv__(a, b)`|\n",
        "|Доступ по индексу |\tobj[k] |\t`__getitem__(obj, k)`|\n",
        "|Присвоение по индексу |\tobj[k] = v |\t`__setitem__(obj, k, v)`|\n",
        "|Удаление по индексу |\tdel obj[k] |\t`__delitem__(obj, k)`|\n",
        "|Равенство |\ta == b |\t`__eq__(a, b)`|\n",
        "|Неравенство |\ta != b |\t`__ne__(a, b)`|\n"
      ]
    },
    {
      "cell_type": "code",
      "execution_count": 31,
      "metadata": {
        "id": "0uMjlIhYAWJO"
      },
      "outputs": [],
      "source": [
        "class Person:\n",
        "    \n",
        "    def __init__(self, name, surname):\n",
        "        self.name = name\n",
        "        self.surname = surname\n",
        "        self.age = 0\n",
        "        \n",
        "    def addage(self):\n",
        "        self.age +=1\n",
        "        return self.age\n",
        "    \n",
        "class Student(Person):\n",
        "    def __init__(self, name, surname, group):\n",
        "        Person.__init__(self, name, surname)\n",
        "        self.group = group\n",
        "        self.marks = {}\n",
        "        \n",
        "    def __str__(self):\n",
        "        s = \"Group: {} \\n{} {}, age: {} \\nMarks: {}\".format(self.group, self.surname, self.name, self.age, self.marks)\n",
        "        return s\n",
        "    \n",
        "    def __add__(self, mark):\n",
        "        self.marks.update(mark)\n",
        "        return self.marks\n",
        "        \n",
        "    def addmark(self, discipline, mark):\n",
        "        self.marks[discipline] = mark"
      ]
    },
    {
      "cell_type": "code",
      "execution_count": 32,
      "metadata": {
        "colab": {
          "base_uri": "https://localhost:8080/"
        },
        "id": "Gy4kxczfAWJO",
        "outputId": "066a17b6-c50c-4ee7-e3a6-91866d7f4837"
      },
      "outputs": [
        {
          "name": "stdout",
          "output_type": "stream",
          "text": [
            "Group: IKBO-01-21 \n",
            "Petrova Anna, age: 0 \n",
            "Marks: {'PP': 5, 'OOP': 4}\n"
          ]
        }
      ],
      "source": [
        "student1 = Student(\"Anna\", \"Petrova\", \"IKBO-01-21\")\n",
        "student1 + {\"PP\": 5}\n",
        "student1 + {\"OOP\": 4}\n",
        "print(student1)"
      ]
    },
    {
      "cell_type": "markdown",
      "metadata": {
        "id": "a7TQIZmHAWJP"
      },
      "source": [
        "## Обработка исключений\n",
        "Основные категории ошибок:\n",
        "* **синтаксические ошибки** (несоответствие синтаксису языка программирования) обнаруживаются интерпретатором языка Python до стадии выполнения (при этом интерпретатор покажет место ошибку и ее возможную причину);\n",
        "* **ошибки времени исполнения** (например, деление на ноль, выход индекса за пределы последовательности, ошибка с чтением файла) не могут быть обнаружены интерпретатором, приводят к досрочному завершению выполнения программы.\n",
        "\n",
        "При возникновении ошибки времени выполнения Python создает специальный объект – **исключение**, цель которого – однозначная характеристика возникшей ошибочную ситуацию. \n",
        "\n",
        "**Исключения** выстроены в иерархию классов-исключений, перечень которых представлен в официальной документации языка Python: https://docs.python.org/3/library/exceptions.html#exception-hierarchy "
      ]
    },
    {
      "cell_type": "code",
      "execution_count": 33,
      "metadata": {
        "colab": {
          "base_uri": "https://localhost:8080/",
          "height": 130
        },
        "id": "ayLmufmiAWJP",
        "outputId": "ca4c4de6-8792-4444-e616-0b2111e2a17f"
      },
      "outputs": [
        {
          "ename": "SyntaxError",
          "evalue": "ignored",
          "output_type": "error",
          "traceback": [
            "\u001b[0;36m  File \u001b[0;32m\"<ipython-input-33-a15c85e82461>\"\u001b[0;36m, line \u001b[0;32m2\u001b[0m\n\u001b[0;31m    for elem in list1\u001b[0m\n\u001b[0m                     ^\u001b[0m\n\u001b[0;31mSyntaxError\u001b[0m\u001b[0;31m:\u001b[0m invalid syntax\n"
          ]
        }
      ],
      "source": [
        "list1 = [10, 20, 30]\n",
        "for elem in list1\n",
        "    print(elem)"
      ]
    },
    {
      "cell_type": "code",
      "execution_count": null,
      "metadata": {
        "id": "XrNrH2u8AWJP"
      },
      "outputs": [],
      "source": [
        "try:\n",
        "    # код, в котором может возникнуть ошибка\n",
        "except exc1 as var1:\n",
        "    # код, который выполняется, если возникло исключение exc1\n",
        "    # exc1 – класс исключения,\n",
        "    # var1 – записывается ссылка на исключение\n",
        "except exc2 as var2:\n",
        "    # код, который выполняется, если возникло исключение exc2\n",
        "    # может идти обработка нескольких разных видов ошибок\n",
        "finally:\n",
        "    # код, который выполняется всегда (была ошибка выше или нет)"
      ]
    },
    {
      "cell_type": "code",
      "execution_count": 35,
      "metadata": {
        "colab": {
          "base_uri": "https://localhost:8080/"
        },
        "id": "U3Dc2oxBAWJP",
        "outputId": "22aea19e-e8d2-44ff-9e35-161a82169355"
      },
      "outputs": [
        {
          "name": "stdout",
          "output_type": "stream",
          "text": [
            "Введите целое число: 0\n",
            "На ноль делить нельзя!\n",
            "Конец программы\n"
          ]
        }
      ],
      "source": [
        "try:\n",
        "    x = int(input(\"Введите целое число: \"))\n",
        "    res = 1 / x\n",
        "    print(\"Результат: \", res)\n",
        "except ZeroDivisionError:\n",
        "    print(\"На ноль делить нельзя!\")\n",
        "except ValueError as err:  \n",
        "    print(\"Будьте внимательны:\", err)\n",
        "except (FileExistsError, FileNotFoundError):\n",
        "    print(\"Этого не случится - мы не работаем с файлами\")\n",
        "except BaseException as err:\n",
        "    # Если ошибка не обработана выше, то будет здесь\n",
        "    print(\"Произошла ошибка!\")\n",
        "    print(\"Тип:\", type(err))\n",
        "    print(\"Описание:\", err)\n",
        "finally:\n",
        "    print(\"Конец программы\")"
      ]
    },
    {
      "cell_type": "code",
      "execution_count": 36,
      "metadata": {
        "colab": {
          "base_uri": "https://localhost:8080/"
        },
        "id": "U3XbG0GtAWJP",
        "outputId": "1fae4157-94a3-4dad-b3db-631d2807aa6e"
      },
      "outputs": [
        {
          "name": "stdout",
          "output_type": "stream",
          "text": [
            "Введите свой возраст: 56\n",
            "Возраст введен\n"
          ]
        }
      ],
      "source": [
        "try:\n",
        "    age = int(input(\"Введите свой возраст: \"))\n",
        "\n",
        "    if not 0 <= age <= 100:\n",
        "        raise ValueError(\"Возраст от 0 до 100\")\n",
        "    print(\"Возраст введен\")\n",
        "except ValueError as err:\n",
        "    print(\"Ошибка:\", err)"
      ]
    }
  ],
  "metadata": {
    "colab": {
      "name": "ОП_КИС_2022_тема_С",
      "provenance": []
    },
    "kernelspec": {
      "display_name": "Python 3",
      "language": "python",
      "name": "python3"
    },
    "language_info": {
      "codemirror_mode": {
        "name": "ipython",
        "version": 3
      },
      "file_extension": ".py",
      "mimetype": "text/x-python",
      "name": "python",
      "nbconvert_exporter": "python",
      "pygments_lexer": "ipython3",
      "version": "3.7.5"
    }
  },
  "nbformat": 4,
  "nbformat_minor": 0
}
